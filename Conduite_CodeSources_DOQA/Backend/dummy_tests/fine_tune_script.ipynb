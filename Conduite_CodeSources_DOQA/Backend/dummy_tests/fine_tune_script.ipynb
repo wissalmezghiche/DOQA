{
 "cells": [
  {
   "cell_type": "code",
   "execution_count": 1,
   "metadata": {},
   "outputs": [
    {
     "name": "stdout",
     "output_type": "stream",
     "text": [
      "Defaulting to user installation because normal site-packages is not writeable\n",
      "Requirement already satisfied: torch in c:\\users\\pc caba dz\\appdata\\roaming\\python\\python310\\site-packages (2.1.1)\n",
      "Requirement already satisfied: typing-extensions in c:\\users\\pc caba dz\\appdata\\roaming\\python\\python310\\site-packages (from torch) (4.8.0)\n",
      "Requirement already satisfied: networkx in c:\\users\\pc caba dz\\appdata\\roaming\\python\\python310\\site-packages (from torch) (3.2.1)\n",
      "Requirement already satisfied: fsspec in c:\\users\\pc caba dz\\appdata\\roaming\\python\\python310\\site-packages (from torch) (2023.10.0)\n",
      "Requirement already satisfied: sympy in c:\\users\\pc caba dz\\appdata\\roaming\\python\\python310\\site-packages (from torch) (1.12)\n",
      "Requirement already satisfied: filelock in c:\\users\\pc caba dz\\appdata\\roaming\\python\\python310\\site-packages (from torch) (3.13.1)\n",
      "Requirement already satisfied: jinja2 in c:\\users\\pc caba dz\\appdata\\roaming\\python\\python310\\site-packages (from torch) (3.1.2)\n",
      "Requirement already satisfied: MarkupSafe>=2.0 in c:\\users\\pc caba dz\\appdata\\roaming\\python\\python310\\site-packages (from jinja2->torch) (2.1.3)\n",
      "Requirement already satisfied: mpmath>=0.19 in c:\\users\\pc caba dz\\appdata\\roaming\\python\\python310\\site-packages (from sympy->torch) (1.3.0)\n"
     ]
    },
    {
     "name": "stderr",
     "output_type": "stream",
     "text": [
      "\n",
      "[notice] A new release of pip is available: 23.0.1 -> 23.3.2\n",
      "[notice] To update, run: C:\\Program Files\\Python310\\python.exe -m pip install --upgrade pip\n"
     ]
    }
   ],
   "source": [
    "!pip install torch"
   ]
  },
  {
   "cell_type": "code",
   "execution_count": 2,
   "metadata": {},
   "outputs": [
    {
     "name": "stdout",
     "output_type": "stream",
     "text": [
      "Requirement already satisfied: pyyaml==5.1 in c:\\users\\pc caba dz\\appdata\\roaming\\python\\python310\\site-packages (5.1)\n"
     ]
    },
    {
     "name": "stderr",
     "output_type": "stream",
     "text": [
      "\n",
      "[notice] A new release of pip is available: 23.0.1 -> 23.3.2\n",
      "[notice] To update, run: C:\\Program Files\\Python310\\python.exe -m pip install --upgrade pip\n"
     ]
    }
   ],
   "source": [
    "!pip install --user pyyaml==5.1"
   ]
  },
  {
   "cell_type": "code",
   "execution_count": null,
   "metadata": {},
   "outputs": [],
   "source": []
  },
  {
   "cell_type": "code",
   "execution_count": 3,
   "metadata": {},
   "outputs": [
    {
     "name": "stdout",
     "output_type": "stream",
     "text": [
      "Defaulting to user installation because normal site-packages is not writeable\n",
      "Requirement already satisfied: torch in c:\\users\\pc caba dz\\appdata\\roaming\\python\\python310\\site-packages (2.1.1)\n",
      "Requirement already satisfied: filelock in c:\\users\\pc caba dz\\appdata\\roaming\\python\\python310\\site-packages (from torch) (3.13.1)\n",
      "Requirement already satisfied: networkx in c:\\users\\pc caba dz\\appdata\\roaming\\python\\python310\\site-packages (from torch) (3.2.1)\n",
      "Requirement already satisfied: sympy in c:\\users\\pc caba dz\\appdata\\roaming\\python\\python310\\site-packages (from torch) (1.12)\n",
      "Requirement already satisfied: fsspec in c:\\users\\pc caba dz\\appdata\\roaming\\python\\python310\\site-packages (from torch) (2023.10.0)\n",
      "Requirement already satisfied: typing-extensions in c:\\users\\pc caba dz\\appdata\\roaming\\python\\python310\\site-packages (from torch) (4.8.0)\n",
      "Requirement already satisfied: jinja2 in c:\\users\\pc caba dz\\appdata\\roaming\\python\\python310\\site-packages (from torch) (3.1.2)\n",
      "Requirement already satisfied: MarkupSafe>=2.0 in c:\\users\\pc caba dz\\appdata\\roaming\\python\\python310\\site-packages (from jinja2->torch) (2.1.3)\n",
      "Requirement already satisfied: mpmath>=0.19 in c:\\users\\pc caba dz\\appdata\\roaming\\python\\python310\\site-packages (from sympy->torch) (1.3.0)\n"
     ]
    },
    {
     "name": "stderr",
     "output_type": "stream",
     "text": [
      "\n",
      "[notice] A new release of pip is available: 23.0.1 -> 23.3.2\n",
      "[notice] To update, run: C:\\Program Files\\Python310\\python.exe -m pip install --upgrade pip\n"
     ]
    }
   ],
   "source": [
    "# workaround: install old version of pytorch since detectron2 hasn't released packages for pytorch 1.9 (issue: https://github.com/facebookresearch/detectron2/issues/3158)\n",
    "!pip install torch"
   ]
  },
  {
   "cell_type": "code",
   "execution_count": 4,
   "metadata": {},
   "outputs": [
    {
     "name": "stdout",
     "output_type": "stream",
     "text": [
      "Defaulting to user installation because normal site-packages is not writeable\n",
      "Requirement already satisfied: torchvision in c:\\users\\pc caba dz\\appdata\\roaming\\python\\python310\\site-packages (0.16.1)\n",
      "Requirement already satisfied: pillow!=8.3.*,>=5.3.0 in c:\\users\\pc caba dz\\appdata\\roaming\\python\\python310\\site-packages (from torchvision) (10.1.0)\n",
      "Requirement already satisfied: torch==2.1.1 in c:\\users\\pc caba dz\\appdata\\roaming\\python\\python310\\site-packages (from torchvision) (2.1.1)\n",
      "Requirement already satisfied: numpy in c:\\users\\pc caba dz\\appdata\\roaming\\python\\python310\\site-packages (from torchvision) (1.26.2)\n",
      "Requirement already satisfied: requests in c:\\users\\pc caba dz\\appdata\\roaming\\python\\python310\\site-packages (from torchvision) (2.31.0)\n",
      "Requirement already satisfied: sympy in c:\\users\\pc caba dz\\appdata\\roaming\\python\\python310\\site-packages (from torch==2.1.1->torchvision) (1.12)\n",
      "Requirement already satisfied: jinja2 in c:\\users\\pc caba dz\\appdata\\roaming\\python\\python310\\site-packages (from torch==2.1.1->torchvision) (3.1.2)\n",
      "Requirement already satisfied: filelock in c:\\users\\pc caba dz\\appdata\\roaming\\python\\python310\\site-packages (from torch==2.1.1->torchvision) (3.13.1)\n",
      "Requirement already satisfied: networkx in c:\\users\\pc caba dz\\appdata\\roaming\\python\\python310\\site-packages (from torch==2.1.1->torchvision) (3.2.1)\n",
      "Requirement already satisfied: fsspec in c:\\users\\pc caba dz\\appdata\\roaming\\python\\python310\\site-packages (from torch==2.1.1->torchvision) (2023.10.0)\n",
      "Requirement already satisfied: typing-extensions in c:\\users\\pc caba dz\\appdata\\roaming\\python\\python310\\site-packages (from torch==2.1.1->torchvision) (4.8.0)\n",
      "Requirement already satisfied: certifi>=2017.4.17 in c:\\users\\pc caba dz\\appdata\\roaming\\python\\python310\\site-packages (from requests->torchvision) (2023.11.17)\n",
      "Requirement already satisfied: urllib3<3,>=1.21.1 in c:\\users\\pc caba dz\\appdata\\roaming\\python\\python310\\site-packages (from requests->torchvision) (2.1.0)\n",
      "Requirement already satisfied: charset-normalizer<4,>=2 in c:\\users\\pc caba dz\\appdata\\roaming\\python\\python310\\site-packages (from requests->torchvision) (3.3.2)\n",
      "Requirement already satisfied: idna<4,>=2.5 in c:\\users\\pc caba dz\\appdata\\roaming\\python\\python310\\site-packages (from requests->torchvision) (3.6)\n",
      "Requirement already satisfied: MarkupSafe>=2.0 in c:\\users\\pc caba dz\\appdata\\roaming\\python\\python310\\site-packages (from jinja2->torch==2.1.1->torchvision) (2.1.3)\n",
      "Requirement already satisfied: mpmath>=0.19 in c:\\users\\pc caba dz\\appdata\\roaming\\python\\python310\\site-packages (from sympy->torch==2.1.1->torchvision) (1.3.0)\n"
     ]
    },
    {
     "name": "stderr",
     "output_type": "stream",
     "text": [
      "\n",
      "[notice] A new release of pip is available: 23.0.1 -> 23.3.2\n",
      "[notice] To update, run: C:\\Program Files\\Python310\\python.exe -m pip install --upgrade pip\n"
     ]
    }
   ],
   "source": [
    "!pip install torchvision"
   ]
  },
  {
   "cell_type": "code",
   "execution_count": 5,
   "metadata": {},
   "outputs": [
    {
     "name": "stdout",
     "output_type": "stream",
     "text": [
      "Defaulting to user installation because normal site-packages is not writeable\n",
      "Requirement already satisfied: transformers in c:\\users\\pc caba dz\\appdata\\roaming\\python\\python310\\site-packages (4.35.2)\n",
      "Requirement already satisfied: tqdm>=4.27 in c:\\users\\pc caba dz\\appdata\\roaming\\python\\python310\\site-packages (from transformers) (4.66.1)\n",
      "Requirement already satisfied: tokenizers<0.19,>=0.14 in c:\\users\\pc caba dz\\appdata\\roaming\\python\\python310\\site-packages (from transformers) (0.15.0)\n",
      "Requirement already satisfied: numpy>=1.17 in c:\\users\\pc caba dz\\appdata\\roaming\\python\\python310\\site-packages (from transformers) (1.26.2)\n",
      "Requirement already satisfied: pyyaml>=5.1 in c:\\users\\pc caba dz\\appdata\\roaming\\python\\python310\\site-packages (from transformers) (5.1)\n",
      "Requirement already satisfied: packaging>=20.0 in c:\\users\\pc caba dz\\appdata\\roaming\\python\\python310\\site-packages (from transformers) (23.2)\n",
      "Requirement already satisfied: huggingface-hub<1.0,>=0.16.4 in c:\\users\\pc caba dz\\appdata\\roaming\\python\\python310\\site-packages (from transformers) (0.19.4)\n",
      "Requirement already satisfied: safetensors>=0.3.1 in c:\\users\\pc caba dz\\appdata\\roaming\\python\\python310\\site-packages (from transformers) (0.4.1)\n",
      "Requirement already satisfied: filelock in c:\\users\\pc caba dz\\appdata\\roaming\\python\\python310\\site-packages (from transformers) (3.13.1)\n",
      "Requirement already satisfied: regex!=2019.12.17 in c:\\users\\pc caba dz\\appdata\\roaming\\python\\python310\\site-packages (from transformers) (2023.10.3)\n",
      "Requirement already satisfied: requests in c:\\users\\pc caba dz\\appdata\\roaming\\python\\python310\\site-packages (from transformers) (2.31.0)\n",
      "Requirement already satisfied: typing-extensions>=3.7.4.3 in c:\\users\\pc caba dz\\appdata\\roaming\\python\\python310\\site-packages (from huggingface-hub<1.0,>=0.16.4->transformers) (4.8.0)\n",
      "Requirement already satisfied: fsspec>=2023.5.0 in c:\\users\\pc caba dz\\appdata\\roaming\\python\\python310\\site-packages (from huggingface-hub<1.0,>=0.16.4->transformers) (2023.10.0)\n",
      "Requirement already satisfied: colorama in c:\\users\\pc caba dz\\appdata\\roaming\\python\\python310\\site-packages (from tqdm>=4.27->transformers) (0.4.6)\n",
      "Requirement already satisfied: urllib3<3,>=1.21.1 in c:\\users\\pc caba dz\\appdata\\roaming\\python\\python310\\site-packages (from requests->transformers) (2.1.0)\n",
      "Requirement already satisfied: idna<4,>=2.5 in c:\\users\\pc caba dz\\appdata\\roaming\\python\\python310\\site-packages (from requests->transformers) (3.6)\n",
      "Requirement already satisfied: certifi>=2017.4.17 in c:\\users\\pc caba dz\\appdata\\roaming\\python\\python310\\site-packages (from requests->transformers) (2023.11.17)\n",
      "Requirement already satisfied: charset-normalizer<4,>=2 in c:\\users\\pc caba dz\\appdata\\roaming\\python\\python310\\site-packages (from requests->transformers) (3.3.2)\n"
     ]
    },
    {
     "name": "stderr",
     "output_type": "stream",
     "text": [
      "\n",
      "[notice] A new release of pip is available: 23.0.1 -> 23.3.2\n",
      "[notice] To update, run: C:\\Program Files\\Python310\\python.exe -m pip install --upgrade pip\n"
     ]
    }
   ],
   "source": [
    "!pip install transformers"
   ]
  },
  {
   "cell_type": "code",
   "execution_count": 6,
   "metadata": {},
   "outputs": [
    {
     "name": "stdout",
     "output_type": "stream",
     "text": [
      "Python 3.8.0\n"
     ]
    }
   ],
   "source": [
    "!python --version"
   ]
  },
  {
   "cell_type": "code",
   "execution_count": 7,
   "metadata": {},
   "outputs": [
    {
     "name": "stdout",
     "output_type": "stream",
     "text": [
      "Defaulting to user installation because normal site-packages is not writeable\n",
      "Looking in links: https://download.pytorch.org/whl/torch_stable.html\n"
     ]
    },
    {
     "name": "stderr",
     "output_type": "stream",
     "text": [
      "ERROR: Could not find a version that satisfies the requirement torch==1.8+cpu (from versions: 1.11.0, 1.11.0+cpu, 1.11.0+cu113, 1.11.0+cu115, 1.12.0, 1.12.0+cpu, 1.12.0+cu113, 1.12.0+cu116, 1.12.1, 1.12.1+cpu, 1.12.1+cu113, 1.12.1+cu116, 1.13.0, 1.13.0+cpu, 1.13.0+cu116, 1.13.0+cu117, 1.13.1, 1.13.1+cpu, 1.13.1+cu116, 1.13.1+cu117, 2.0.0, 2.0.0+cpu, 2.0.0+cu117, 2.0.0+cu118, 2.0.1, 2.0.1+cpu, 2.0.1+cu117, 2.0.1+cu118, 2.1.0, 2.1.0+cpu, 2.1.0+cu118, 2.1.0+cu121, 2.1.1, 2.1.1+cpu, 2.1.1+cu118, 2.1.1+cu121, 2.1.2, 2.1.2+cpu, 2.1.2+cu118, 2.1.2+cu121)\n",
      "ERROR: No matching distribution found for torch==1.8+cpu\n",
      "\n",
      "[notice] A new release of pip is available: 23.0.1 -> 23.3.2\n",
      "[notice] To update, run: C:\\Program Files\\Python310\\python.exe -m pip install --upgrade pip\n"
     ]
    }
   ],
   "source": [
    "!pip install torch==1.8+cpu torchvision==0.9+cpu torchaudio===0.8 -f https://download.pytorch.org/whl/torch_stable.html\n"
   ]
  },
  {
   "cell_type": "code",
   "execution_count": 8,
   "metadata": {},
   "outputs": [
    {
     "name": "stdout",
     "output_type": "stream",
     "text": [
      "Defaulting to user installation because normal site-packages is not writeable\n",
      "Requirement already satisfied: torch in c:\\users\\pc caba dz\\appdata\\roaming\\python\\python310\\site-packages (2.1.1)\n",
      "Requirement already satisfied: sympy in c:\\users\\pc caba dz\\appdata\\roaming\\python\\python310\\site-packages (from torch) (1.12)\n",
      "Requirement already satisfied: networkx in c:\\users\\pc caba dz\\appdata\\roaming\\python\\python310\\site-packages (from torch) (3.2.1)\n",
      "Requirement already satisfied: jinja2 in c:\\users\\pc caba dz\\appdata\\roaming\\python\\python310\\site-packages (from torch) (3.1.2)\n",
      "Requirement already satisfied: typing-extensions in c:\\users\\pc caba dz\\appdata\\roaming\\python\\python310\\site-packages (from torch) (4.8.0)\n",
      "Requirement already satisfied: fsspec in c:\\users\\pc caba dz\\appdata\\roaming\\python\\python310\\site-packages (from torch) (2023.10.0)\n",
      "Requirement already satisfied: filelock in c:\\users\\pc caba dz\\appdata\\roaming\\python\\python310\\site-packages (from torch) (3.13.1)\n",
      "Requirement already satisfied: MarkupSafe>=2.0 in c:\\users\\pc caba dz\\appdata\\roaming\\python\\python310\\site-packages (from jinja2->torch) (2.1.3)\n",
      "Requirement already satisfied: mpmath>=0.19 in c:\\users\\pc caba dz\\appdata\\roaming\\python\\python310\\site-packages (from sympy->torch) (1.3.0)\n"
     ]
    },
    {
     "name": "stderr",
     "output_type": "stream",
     "text": [
      "\n",
      "[notice] A new release of pip is available: 23.0.1 -> 23.3.2\n",
      "[notice] To update, run: C:\\Program Files\\Python310\\python.exe -m pip install --upgrade pip\n"
     ]
    }
   ],
   "source": [
    "!pip install torch"
   ]
  },
  {
   "cell_type": "code",
   "execution_count": 9,
   "metadata": {},
   "outputs": [
    {
     "name": "stderr",
     "output_type": "stream",
     "text": [
      "fatal: destination path 'detectron2' already exists and is not an empty directory.\n"
     ]
    },
    {
     "name": "stdout",
     "output_type": "stream",
     "text": [
      "Obtaining file:///C:/Users/PC%20CABA%20DZ/Desktop/CPRJ/Projet_CPRJ/src/detectron2"
     ]
    },
    {
     "name": "stderr",
     "output_type": "stream",
     "text": [
      "    ERROR: Command errored out with exit status 1:\n",
      "     command: 'c:\\Users\\PC CABA DZ\\AppData\\Local\\Programs\\Python\\Python38\\python.exe' -c 'import sys, setuptools, tokenize; sys.argv[0] = '\"'\"'C:\\\\Users\\\\PC CABA DZ\\\\Desktop\\\\CPRJ\\\\Projet_CPRJ\\\\src\\\\detectron2\\\\setup.py'\"'\"'; __file__='\"'\"'C:\\\\Users\\\\PC CABA DZ\\\\Desktop\\\\CPRJ\\\\Projet_CPRJ\\\\src\\\\detectron2\\\\setup.py'\"'\"';f=getattr(tokenize, '\"'\"'open'\"'\"', open)(__file__);code=f.read().replace('\"'\"'\\r\\n'\"'\"', '\"'\"'\\n'\"'\"');f.close();exec(compile(code, __file__, '\"'\"'exec'\"'\"'))' egg_info\n",
      "         cwd: C:\\Users\\PC CABA DZ\\Desktop\\CPRJ\\Projet_CPRJ\\src\\detectron2\\\n",
      "    Complete output (5 lines):\n",
      "    Traceback (most recent call last):\n",
      "      File \"<string>\", line 1, in <module>\n",
      "      File \"C:\\Users\\PC CABA DZ\\Desktop\\CPRJ\\Projet_CPRJ\\src\\detectron2\\setup.py\", line 10, in <module>\n",
      "        import torch\n",
      "    ModuleNotFoundError: No module named 'torch'\n",
      "    ----------------------------------------\n",
      "ERROR: Command errored out with exit status 1: python setup.py egg_info Check the logs for full command output.\n",
      "WARNING: You are using pip version 19.2.3, however version 23.3.2 is available.\n",
      "You should consider upgrading via the 'python -m pip install --upgrade pip' command.\n"
     ]
    },
    {
     "name": "stdout",
     "output_type": "stream",
     "text": [
      "\n"
     ]
    }
   ],
   "source": [
    "!git clone https://github.com/facebookresearch/detectron2.git\n",
    "!python -m pip install -e detectron2"
   ]
  },
  {
   "cell_type": "code",
   "execution_count": null,
   "metadata": {},
   "outputs": [],
   "source": []
  },
  {
   "cell_type": "code",
   "execution_count": 10,
   "metadata": {},
   "outputs": [
    {
     "name": "stdout",
     "output_type": "stream",
     "text": [
      "Defaulting to user installation because normal site-packages is not writeable\n"
     ]
    },
    {
     "name": "stderr",
     "output_type": "stream",
     "text": [
      "ERROR: Could not find a version that satisfies the requirement detectron2 (from versions: none)\n",
      "ERROR: No matching distribution found for detectron2\n",
      "\n",
      "[notice] A new release of pip is available: 23.0.1 -> 23.3.2\n",
      "[notice] To update, run: C:\\Program Files\\Python310\\python.exe -m pip install --upgrade pip\n"
     ]
    }
   ],
   "source": [
    "# install detectron2 that matches pytorch 1.8\n",
    "# See https://detectron2.readthedocs.io/tutorials/install.html for instructions\n",
    "!pip install  detectron2 \n",
    "# exit(0)  # After installation, you need to \"restart runtime\" in Colab. This line can also restart runti"
   ]
  },
  {
   "cell_type": "code",
   "execution_count": 11,
   "metadata": {},
   "outputs": [
    {
     "name": "stderr",
     "output_type": "stream",
     "text": [
      "\n",
      "[notice] A new release of pip is available: 23.0.1 -> 23.3.2\n",
      "[notice] To update, run: C:\\Program Files\\Python310\\python.exe -m pip install --upgrade pip\n"
     ]
    }
   ],
   "source": [
    "!pip install -q datasets"
   ]
  },
  {
   "cell_type": "code",
   "execution_count": 12,
   "metadata": {},
   "outputs": [
    {
     "name": "stderr",
     "output_type": "stream",
     "text": [
      "'sudo' n'est pas reconnu en tant que commande interne\n",
      "ou externe, un programme ex�cutable ou un fichier de commandes.\n",
      "\n",
      "[notice] A new release of pip is available: 23.0.1 -> 23.3.2\n",
      "[notice] To update, run: C:\\Program Files\\Python310\\python.exe -m pip install --upgrade pip\n"
     ]
    }
   ],
   "source": [
    "!sudo apt install tesseract-ocr\n",
    "!pip install -q pytesseract"
   ]
  },
  {
   "cell_type": "code",
   "execution_count": 13,
   "metadata": {},
   "outputs": [],
   "source": [
    "MODEL_ID = \"microsoft/layoutlmv2-base-uncased\"\n",
    "batch_size = 16"
   ]
  },
  {
   "cell_type": "code",
   "execution_count": null,
   "metadata": {},
   "outputs": [],
   "source": []
  },
  {
   "cell_type": "code",
   "execution_count": null,
   "metadata": {},
   "outputs": [],
   "source": []
  },
  {
   "cell_type": "code",
   "execution_count": null,
   "metadata": {},
   "outputs": [],
   "source": []
  },
  {
   "cell_type": "code",
   "execution_count": null,
   "metadata": {},
   "outputs": [],
   "source": []
  },
  {
   "cell_type": "code",
   "execution_count": null,
   "metadata": {},
   "outputs": [],
   "source": []
  }
 ],
 "metadata": {
  "kernelspec": {
   "display_name": "Python 3",
   "language": "python",
   "name": "python3"
  },
  "language_info": {
   "codemirror_mode": {
    "name": "ipython",
    "version": 3
   },
   "file_extension": ".py",
   "mimetype": "text/x-python",
   "name": "python",
   "nbconvert_exporter": "python",
   "pygments_lexer": "ipython3",
   "version": "3.8.0"
  }
 },
 "nbformat": 4,
 "nbformat_minor": 2
}
